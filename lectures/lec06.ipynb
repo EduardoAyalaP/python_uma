{
 "cells": [
  {
   "cell_type": "markdown",
   "metadata": {
    "slideshow": {
     "slide_type": "slide"
    }
   },
   "source": [
    "<h1 style=\"color:#872325\"> Módulos</h1>"
   ]
  },
  {
   "cell_type": "code",
   "execution_count": 1,
   "metadata": {},
   "outputs": [],
   "source": [
    "import sys; sys.path.append(\"../files/lec06/\")"
   ]
  },
  {
   "cell_type": "markdown",
   "metadata": {},
   "source": [
    "A medida que empezamos a crear problemas cada vez más y más complejos, se vuelve una tarea complicada guardar nuestros desarrollos para nuestro uso personal y el de otras personas. Un **modulo**, es un archivo escrito en python con funciones, variables, etc., que nos permite guardar nuestros desarrollos en archivos de python (`.py`)\n",
    "\n",
    "Todo lo definido dentro de un modelo puede ser *importado* dentro de otros módulos o accedido desde el REPL (la línea de comandos) o un Jupyter Notebook. "
   ]
  },
  {
   "cell_type": "markdown",
   "metadata": {},
   "source": [
    "Consideremos, por ejemplo, el módulo `matefin.py` la cuál contiene métodos de matemáticas financieras. Podemos importar los elementos de matefin con el siguiente comando:"
   ]
  },
  {
   "cell_type": "code",
   "execution_count": 2,
   "metadata": {},
   "outputs": [],
   "source": [
    "import matefin"
   ]
  },
  {
   "cell_type": "code",
   "execution_count": 3,
   "metadata": {},
   "outputs": [
    {
     "data": {
      "text/plain": [
       "<module 'matefin' from '../files/lec06/matefin.py'>"
      ]
     },
     "execution_count": 3,
     "metadata": {},
     "output_type": "execute_result"
    }
   ],
   "source": [
    "matefin"
   ]
  },
  {
   "cell_type": "markdown",
   "metadata": {},
   "source": [
    "En general, importamos una un módulo `lib` como:\n",
    "\n",
    "```python\n",
    "import lib\n",
    "```"
   ]
  },
  {
   "cell_type": "markdown",
   "metadata": {},
   "source": [
    "Una vez importado `matefin` podemos acceder a los elementos de este módulo:"
   ]
  },
  {
   "cell_type": "code",
   "execution_count": 4,
   "metadata": {},
   "outputs": [
    {
     "data": {
      "text/plain": [
       "243.33058048000004"
      ]
     },
     "execution_count": 4,
     "metadata": {},
     "output_type": "execute_result"
    }
   ],
   "source": [
    "matefin.accum_value(200, 0.04, 5)"
   ]
  },
  {
   "cell_type": "code",
   "execution_count": 5,
   "metadata": {},
   "outputs": [
    {
     "name": "stdout",
     "output_type": "stream",
     "text": [
      "Help on function accum_value in module matefin:\n",
      "\n",
      "accum_value(c, irate, periods, yearly_payoff=1, itype='compound')\n",
      "    Calcula el valor acumulado de una inversión inicial 'C'\n",
      "    considerando una tasa anual 'irate' pagadera `yearly_payoff`\n",
      "    veces al año y considerando una tasa de interés `itype`\n",
      "    \n",
      "    Parámetros\n",
      "    ----------\n",
      "    c: float\n",
      "        inversión inicial\n",
      "    irate: float\n",
      "        tasa de interés anual\n",
      "    periods: float\n",
      "        número de períodos a considerar. Nota: si itype == 'simple',\n",
      "        se considera periods como el tiempo de la inversión\n",
      "    yearly_payoff: float\n",
      "        número de veces de reinversión en un año\n",
      "    itype: str (\"compound\" o \"simple\")\n",
      "        tipo de inversión a considerar \n",
      "    \n",
      "    \n",
      "    Returns\n",
      "    -------\n",
      "    float:\n",
      "        valor de la inversión acumulado después de `periods` períodos\n",
      "\n"
     ]
    }
   ],
   "source": [
    "help(matefin.accum_value)"
   ]
  },
  {
   "cell_type": "markdown",
   "metadata": {},
   "source": [
    "Podemos conocer el nombre de la librería con la **variable global** `__name__`"
   ]
  },
  {
   "cell_type": "code",
   "execution_count": 6,
   "metadata": {},
   "outputs": [
    {
     "data": {
      "text/plain": [
       "'matefin'"
      ]
     },
     "execution_count": 6,
     "metadata": {},
     "output_type": "execute_result"
    }
   ],
   "source": [
    "matefin.__name__"
   ]
  },
  {
   "cell_type": "markdown",
   "metadata": {},
   "source": [
    "Podemos conocer los contenidos de una librería con la función"
   ]
  },
  {
   "cell_type": "code",
   "execution_count": 7,
   "metadata": {},
   "outputs": [
    {
     "data": {
      "text/plain": [
       "['__builtins__',\n",
       " '__cached__',\n",
       " '__doc__',\n",
       " '__file__',\n",
       " '__loader__',\n",
       " '__name__',\n",
       " '__package__',\n",
       " '__spec__',\n",
       " 'accum_value',\n",
       " 'present_value']"
      ]
     },
     "execution_count": 7,
     "metadata": {},
     "output_type": "execute_result"
    }
   ],
   "source": [
    "dir(matefin)"
   ]
  },
  {
   "cell_type": "markdown",
   "metadata": {},
   "source": [
    "Al hacer uso de un módulo es únicamente necesario seleccionar el elemento a ocupar para poder hacer uso de este. En ocasiones, esto implica no necesariamente saber que hay detrás de una función para hacer uso de esta."
   ]
  },
  {
   "cell_type": "markdown",
   "metadata": {},
   "source": [
    "<h2 style=\"color:teal\">Ejemplo</h2>\n",
    "Encontrar el valor presente de 150 um pagadas trimestralmente durante 40 años a una tasa de interés del 8% anual"
   ]
  },
  {
   "cell_type": "code",
   "execution_count": 8,
   "metadata": {},
   "outputs": [
    {
     "data": {
      "text/plain": [
       "6.310500088289895"
      ]
     },
     "execution_count": 8,
     "metadata": {},
     "output_type": "execute_result"
    }
   ],
   "source": [
    "matefin.present_value(150, 0.08, 40, yearly_payoff=4)"
   ]
  },
  {
   "cell_type": "markdown",
   "metadata": {},
   "source": [
    "<h2 style=\"color:teal\">Ejemplo</h2>\n",
    "\n",
    "Supongamos añadir la función `rate_converter` a nuestro módulo `matefin` para convertir una tasa efectiva anual a una nominal y una nominal a una efectiva anual. En general sabemos que:\n",
    "\n",
    "$$\n",
    "    \\left(1 + \\frac{i_n}{n}\\right)^n = \\left(1 + i\\right)\n",
    "$$\n",
    "\n",
    "Donde:\n",
    "* $i_n$ es la tasa nominal pagadera $n$ veces al año\n",
    "* $i$ es la tasa efectiva pagadera anualmente\n",
    "----\n",
    "\n",
    "* El primer paso implica abrir nuestro archivo `matefin.py` y editar nuestro módulo añadiendo una nueva función: `rate_converter`\n",
    "* Paso siguiente implica conocer qué parámetros necesitamos para nuestra función: sabemos que necesitamos:\n",
    "    * El número de veces que se paga $i_n$ en un año\n",
    "    * Una tasa: ya sea $i_n$ o $i$\n",
    "    * Saber si queremos encontrar $i_n$ o $i$ uUna computadora no es intrisicamente simbólica, por lo que resolver algebraicamente una operación no es una opción.\n",
    "   \n",
    "Este último punto implica tener que econtrar quién es tanto $i_n$ en términos de $i$, así como $i$ en términos de $i_n$ (un caso `if-elif`)\n",
    "\n",
    "Encontrar $i$ implica:\n",
    "$$\n",
    "    i = \\left(1 + \\frac{i_n}{n}\\right)^n - 1\n",
    "$$\n",
    "\n",
    "Encontrar $i_n$ implica:\n",
    "$$\n",
    "    i_n = n\\left(\\left(1 + i\\right)^{1/n} - 1\\right)\n",
    "$$\n",
    "\n",
    "Considerando todos los puntos anteriores podemos empezar a definir nuestra función de la siguiente manera:\n",
    "```python\n",
    "def rate_converter(rate, yearly_payoff, base):\n",
    "    if base == \"nominal\":\n",
    "        pass\n",
    "    elif base == \"efective\":\n",
    "        pass\n",
    "```\n",
    "\n",
    "Considerando que `base` puede tomar `\"nominal\"` o `\"efective\"`. \n",
    "\n",
    "Paso último sería agregar los cálculos que se harán si `base == \"nominal\"` o `base == \"effective\"`, i.e., implementar las fórmulas encontradas para $i$, $i_n$ y documentar nuestra función:\n",
    "\n",
    "```python\n",
    "def rate_converter(rate, yearly_payoff, base):\n",
    "    \"\"\"\n",
    "    Convierte una tasa nominal pagadera 'yearly_payoff'\n",
    "    al año, por una tasa anual efectiva\n",
    "\n",
    "    Parameters\n",
    "    ----------\n",
    "    rate: Una tasa convertir\n",
    "    yearly_payoff: el número de veces en el que se reinvierte la tasa nominal\n",
    "    base: str (\"nominal\" ^ \"effective\")\n",
    "        La base \n",
    "\n",
    "    Returns\n",
    "    -------\n",
    "    Una tasa convertida\n",
    "    \"\"\"\n",
    "    if base == \"nominal\"\n",
    "        return (1 + rate) ** yearly_payoff - 1\n",
    "    elif base == \"effective\":\n",
    "        return yearly_payoff * ((1 + rate) ** (1 / yearly_payoff) - 1)\n",
    "```\n",
    "\n",
    "Las adiciones anteriores se agregaron al archivo `matefin2.py`"
   ]
  },
  {
   "cell_type": "markdown",
   "metadata": {},
   "source": [
    "En ocasiones queremos importar un único elemento de un módulo. En estos casos, podemos hacer uso de la notación \n",
    "\n",
    "```python\n",
    "from lib import func\n",
    "```\n",
    "\n",
    "La cuál importa únicamente el elemento elegido sin necesidad de llamar explicitamente el nombre de la función."
   ]
  },
  {
   "cell_type": "markdown",
   "metadata": {},
   "source": [
    "Supón que te dan el siguiente problema:\n",
    "> Un banco $A$ te ofrece una tasa (efectiva) anual del 6%; el banco $B$ ofrece una tasa del 1.5% trimestral. ¿Cuál de estos dos bancos ofrecen el mejor rendimiento?\n",
    "\n",
    "Con nuestro nuevo módulo `matefin2` e importando la función `rate_converter` podemos resolver este problema"
   ]
  },
  {
   "cell_type": "code",
   "execution_count": 19,
   "metadata": {},
   "outputs": [],
   "source": [
    "from matefin2 import rate_converter"
   ]
  },
  {
   "cell_type": "code",
   "execution_count": 24,
   "metadata": {},
   "outputs": [],
   "source": [
    "bank_B_erate = rate_converter(0.015, 4, base=\"nominal\")\n",
    "bank_A_erate = 6/ 100"
   ]
  },
  {
   "cell_type": "code",
   "execution_count": 23,
   "metadata": {},
   "outputs": [
    {
     "name": "stdout",
     "output_type": "stream",
     "text": [
      "Banco A ofrece una tasa anual de 6.00%\n",
      "Banco B ofrece una tasa anual de 6.14%\n"
     ]
    }
   ],
   "source": [
    "print(f\"Banco A ofrece una tasa anual de {bank_A_erate:0.2%}\")\n",
    "print(f\"Banco B ofrece una tasa anual de {bank_B_erate:0.2%}\")"
   ]
  },
  {
   "cell_type": "markdown",
   "metadata": {},
   "source": [
    "<h2 style=\"color:crimson\"> Ejercicio </h2>\n",
    "\n",
    "1. Dentro de tu carpeta de trabajo actual, crea un archivo _palabras.py_ con las siguientes dos funciones:\n",
    "    * `sin_vocales` que tome un `str` y regrese un nuevo string sin ninguna vocal (hint: considera la lista `vocales = [\"a\", \"e\", \"i\", \"o\", \"u\"]` un `for` loop sobre la lista `vocales` y el métdo `str.replace`)\n",
    "    * `scramble` que revierta el primer y segundo elemento del string; el tercer y el cuarto elemento del string; y así sucesivamente. Por ejemplo: `\"Pythons\"` sería `\"yPhtno\"`; `\"machine learning\"` sería `\"amhcni eelraingn\"`\n",
    "    \n",
    "2. importa `palabras` y evalua:\n",
    "    * `palabras.sin_vocales(\"Esto es un string\")`\n",
    "    * `palabras.scramble(\"Esto es un string\")`"
   ]
  },
  {
   "cell_type": "markdown",
   "metadata": {},
   "source": [
    "## El _standard library_\n",
    "\n",
    "Python cuenta con un gran número de _módulos estándard_ los cuáles vienen incluídos dentro de cada copia de python. Puedes ver todas los módulos estándard entrando a [este link](https://docs.python.org/3/library/).\n",
    "\n",
    "Dentro de esta lectura veremos sólo unos ejemplos de los módulos estándard."
   ]
  },
  {
   "cell_type": "code",
   "execution_count": 61,
   "metadata": {},
   "outputs": [
    {
     "name": "stdout",
     "output_type": "stream",
     "text": [
      "['__doc__', '__file__', '__loader__', '__name__', '__package__', '__spec__', 'acos', 'acosh', 'asin', 'asinh', 'atan', 'atan2', 'atanh', 'ceil', 'copysign', 'cos', 'cosh', 'degrees', 'e', 'erf', 'erfc', 'exp', 'expm1', 'fabs', 'factorial', 'floor', 'fmod', 'frexp', 'fsum', 'gamma', 'gcd', 'hypot', 'inf', 'isclose', 'isfinite', 'isinf', 'isnan', 'ldexp', 'lgamma', 'log', 'log10', 'log1p', 'log2', 'modf', 'nan', 'pi', 'pow', 'radians', 'sin', 'sinh', 'sqrt', 'tan', 'tanh', 'tau', 'trunc']\n"
     ]
    }
   ],
   "source": [
    "import math\n",
    "print(dir(math))"
   ]
  },
  {
   "cell_type": "code",
   "execution_count": 66,
   "metadata": {},
   "outputs": [
    {
     "data": {
      "text/plain": [
       "0.999999695226903"
      ]
     },
     "execution_count": 66,
     "metadata": {},
     "output_type": "execute_result"
    }
   ],
   "source": [
    "math.log(2.718281)"
   ]
  },
  {
   "cell_type": "code",
   "execution_count": 67,
   "metadata": {},
   "outputs": [
    {
     "data": {
      "text/plain": [
       "120"
      ]
     },
     "execution_count": 67,
     "metadata": {},
     "output_type": "execute_result"
    }
   ],
   "source": [
    "math.factorial(5)"
   ]
  },
  {
   "cell_type": "code",
   "execution_count": 69,
   "metadata": {},
   "outputs": [
    {
     "data": {
      "text/plain": [
       "-1.0"
      ]
     },
     "execution_count": 69,
     "metadata": {},
     "output_type": "execute_result"
    }
   ],
   "source": [
    "math.sin(3 / 2 * math.pi)"
   ]
  },
  {
   "cell_type": "code",
   "execution_count": 70,
   "metadata": {},
   "outputs": [
    {
     "data": {
      "text/plain": [
       "-1.8369701987210297e-16"
      ]
     },
     "execution_count": 70,
     "metadata": {},
     "output_type": "execute_result"
    }
   ],
   "source": [
    "math.cos(3 / 2 * math.pi)"
   ]
  }
 ],
 "metadata": {
  "celltoolbar": "Slideshow",
  "kernelspec": {
   "display_name": "Python 3",
   "language": "python",
   "name": "python3"
  },
  "language_info": {
   "codemirror_mode": {
    "name": "ipython",
    "version": 3
   },
   "file_extension": ".py",
   "mimetype": "text/x-python",
   "name": "python",
   "nbconvert_exporter": "python",
   "pygments_lexer": "ipython3",
   "version": "3.6.6"
  }
 },
 "nbformat": 4,
 "nbformat_minor": 2
}
