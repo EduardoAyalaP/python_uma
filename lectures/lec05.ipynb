{
 "cells": [
  {
   "cell_type": "markdown",
   "metadata": {
    "slideshow": {
     "slide_type": "slide"
    }
   },
   "source": [
    "<h1 style=\"color:#872325\">Funciones</h1>"
   ]
  },
  {
   "cell_type": "markdown",
   "metadata": {},
   "source": [
    "* Una función, en programación, es una sección nombrada de un programa cuyo fin es realizar una tarea específica.\n",
    "* La mayoría de los lenguajes de programación, como es el caso de Python, contienen funciones ya definidas que pueden ser usadas por el usuario."
   ]
  },
  {
   "cell_type": "markdown",
   "metadata": {
    "slideshow": {
     "slide_type": "slide"
    }
   },
   "source": [
    "### Funciones que ya conocemos"
   ]
  },
  {
   "cell_type": "code",
   "execution_count": 1,
   "metadata": {
    "slideshow": {
     "slide_type": "fragment"
    }
   },
   "outputs": [],
   "source": [
    "len([1, 2, 3, 4])"
   ]
  },
  {
   "cell_type": "code",
   "execution_count": 2,
   "metadata": {},
   "outputs": [],
   "source": [
    "sum([1, 2, 3, 4])"
   ]
  },
  {
   "cell_type": "code",
   "execution_count": 3,
   "metadata": {
    "slideshow": {
     "slide_type": "fragment"
    }
   },
   "outputs": [],
   "source": [
    "print(\"f(x)\")"
   ]
  },
  {
   "cell_type": "code",
   "execution_count": 4,
   "metadata": {
    "slideshow": {
     "slide_type": "fragment"
    }
   },
   "outputs": [],
   "source": [
    "pow(3, 2)"
   ]
  },
  {
   "cell_type": "code",
   "execution_count": 5,
   "metadata": {
    "slideshow": {
     "slide_type": "fragment"
    }
   },
   "outputs": [],
   "source": [
    "abs(-3)"
   ]
  },
  {
   "cell_type": "markdown",
   "metadata": {
    "slideshow": {
     "slide_type": "slide"
    }
   },
   "source": [
    "Declaramos una función en python por medio del keyword `def` (*definition*). La sintáxis general para declarar una función en python es la siguiente:\n",
    "\n",
    "```python\n",
    "def nombre_funcion(param1, param2, ..., paramn):\n",
    "    <operaciones>\n",
    "```\n",
    "\n",
    "* `param1`, `param2` son conocidos como los **parámetros** de la función. Estos son objetos que servirán como *inputs* a la función (si es que la función necesita algún input)\n",
    "* Al igual que con los loops (`for`, `while`) y control flow statements (`if`, `else`, `elif`), la definición de una función inicia después de su declaración inicial; el cuerpo de la función es todo aquello con sangría y acaba al regresar al nivel en donde la función fue definida."
   ]
  },
  {
   "cell_type": "code",
   "execution_count": 6,
   "metadata": {
    "slideshow": {
     "slide_type": "slide"
    }
   },
   "outputs": [],
   "source": [
    "def funcion():\n",
    "    print(\"¡Esto es una función!\")\n",
    "\n",
    "funcion()"
   ]
  },
  {
   "cell_type": "code",
   "execution_count": 7,
   "metadata": {
    "slideshow": {
     "slide_type": "subslide"
    }
   },
   "outputs": [],
   "source": [
    "def distancia(a, b):\n",
    "    print( (a**2 + b**2) ** (1/2))\n",
    "\n",
    "distancia(1, 2)"
   ]
  },
  {
   "cell_type": "markdown",
   "metadata": {},
   "source": [
    "Al crear una función es importante notar que los parámetros de la función y las variables declaradas dentro de la función solo se ven afectadas dentro de la función.  \n",
    "El alcance de una variable es conocido como el *scope*"
   ]
  },
  {
   "cell_type": "code",
   "execution_count": 8,
   "metadata": {},
   "outputs": [],
   "source": [
    "def f(a): # 'a' es conocido como un parámetro\n",
    "    b = 3 # 'b' no existe fuera de este scope\n",
    "    a = a + 1\n",
    "    print(a)\n",
    "\n",
    "b = 6\n",
    "a = 3\n",
    "f(a) # 'a' es un argumento\n",
    "print(a)"
   ]
  },
  {
   "cell_type": "markdown",
   "metadata": {},
   "source": [
    "El valor que toma un parámetro es conocido como su **argumento**. Los argumentos de una función se toman de manera ordenada."
   ]
  },
  {
   "cell_type": "code",
   "execution_count": 9,
   "metadata": {},
   "outputs": [],
   "source": [
    "def resta(x, y):\n",
    "    print(x - y)"
   ]
  },
  {
   "cell_type": "code",
   "execution_count": 10,
   "metadata": {},
   "outputs": [
    {
     "name": "stdout",
     "output_type": "stream",
     "text": [
      "-1\n"
     ]
    }
   ],
   "source": [
    "resta(2, 3)"
   ]
  },
  {
   "cell_type": "code",
   "execution_count": 11,
   "metadata": {},
   "outputs": [
    {
     "name": "stdout",
     "output_type": "stream",
     "text": [
      "1\n"
     ]
    }
   ],
   "source": [
    "resta(3, 2)"
   ]
  },
  {
   "cell_type": "markdown",
   "metadata": {},
   "source": [
    "De igual manera, podemos pasar un argumento a cualquier función de manera explicita mencionando el nombre del parámetro seguido del argumento. De esta manera, el orden de los argumentos no son relevantes, siempre y cuando tomemos el nombre del parámetro correcto"
   ]
  },
  {
   "cell_type": "code",
   "execution_count": 12,
   "metadata": {
    "slideshow": {
     "slide_type": "fragment"
    }
   },
   "outputs": [
    {
     "name": "stdout",
     "output_type": "stream",
     "text": [
      "-1\n"
     ]
    }
   ],
   "source": [
    "resta(x=2, y=3)"
   ]
  },
  {
   "cell_type": "markdown",
   "metadata": {},
   "source": [
    "### El `return` keyword\n",
    "En muchas ocasiones no nos es estrictamente necesario observar el valor que arroja una función, sino más bien trabajar con ese valor.\n",
    "\n",
    "Considerando la siguiente función, supongamos que queremos guardar el valor que nos arroja una función. En este caso, vemos que no podemos hacer uso del valor calculado por la función `cuadrado`. En efecto, el valor arrojado por la función no es nada `None`."
   ]
  },
  {
   "cell_type": "code",
   "execution_count": 13,
   "metadata": {},
   "outputs": [
    {
     "name": "stdout",
     "output_type": "stream",
     "text": [
      "4\n"
     ]
    },
    {
     "ename": "TypeError",
     "evalue": "unsupported operand type(s) for +: 'NoneType' and 'int'",
     "output_type": "error",
     "traceback": [
      "\u001b[0;31m---------------------------------------------------------------------------\u001b[0m",
      "\u001b[0;31mTypeError\u001b[0m                                 Traceback (most recent call last)",
      "\u001b[0;32m<ipython-input-13-cf36f1757b3c>\u001b[0m in \u001b[0;36m<module>\u001b[0;34m()\u001b[0m\n\u001b[1;32m      3\u001b[0m \u001b[0;34m\u001b[0m\u001b[0m\n\u001b[1;32m      4\u001b[0m \u001b[0msq2\u001b[0m \u001b[0;34m=\u001b[0m \u001b[0mcuadrado\u001b[0m\u001b[0;34m(\u001b[0m\u001b[0;36m2\u001b[0m\u001b[0;34m)\u001b[0m\u001b[0;34m\u001b[0m\u001b[0m\n\u001b[0;32m----> 5\u001b[0;31m \u001b[0mprint\u001b[0m\u001b[0;34m(\u001b[0m\u001b[0msq2\u001b[0m \u001b[0;34m+\u001b[0m \u001b[0;36m1\u001b[0m\u001b[0;34m)\u001b[0m\u001b[0;34m\u001b[0m\u001b[0m\n\u001b[0m",
      "\u001b[0;31mTypeError\u001b[0m: unsupported operand type(s) for +: 'NoneType' and 'int'"
     ]
    }
   ],
   "source": [
    "def cuadrado(x):\n",
    "    print(x * 2)\n",
    "\n",
    "sq2 = cuadrado(2)\n",
    "print(sq2 + 1)"
   ]
  },
  {
   "cell_type": "markdown",
   "metadata": {},
   "source": [
    "Para poder obtener el valor de una función ocupamos el keyword `return`, el cuál nos arroja un valor (o valores) deseado creados dentro de una función"
   ]
  },
  {
   "cell_type": "code",
   "execution_count": 14,
   "metadata": {},
   "outputs": [
    {
     "name": "stdout",
     "output_type": "stream",
     "text": [
      "5\n"
     ]
    }
   ],
   "source": [
    "def cuadrado(x):\n",
    "    return x ** 2\n",
    "\n",
    "sq2 = cuadrado(2)\n",
    "print(sq2 + 1)"
   ]
  },
  {
   "cell_type": "markdown",
   "metadata": {},
   "source": [
    "Dentro de una función, normalmente se ocupa el `print` para saber el estado de un programa, e.g., un proceso largo sobre el cuál nos gustaría saber en que punto se encuentra el proceso. El `return` es el valor sobre el cuál nos gustaría trabajar."
   ]
  },
  {
   "cell_type": "markdown",
   "metadata": {
    "slideshow": {
     "slide_type": "slide"
    }
   },
   "source": [
    "### Argumentos Opcionales\n",
    "En python podemos definir funciones cuyos parámetros toman algún argumento predefinido. Estos parámetros se conocen como **argumentos opcionales**"
   ]
  },
  {
   "cell_type": "code",
   "execution_count": 15,
   "metadata": {
    "slideshow": {
     "slide_type": "fragment"
    }
   },
   "outputs": [],
   "source": [
    "def distancia2(x1, y1, x0=0, y0=0):\n",
    "    return ((x1 - x0) ** 2 + (y1 - y0) **2) ** (1/2) "
   ]
  },
  {
   "cell_type": "code",
   "execution_count": 16,
   "metadata": {
    "slideshow": {
     "slide_type": "fragment"
    }
   },
   "outputs": [
    {
     "data": {
      "text/plain": [
       "2.23606797749979"
      ]
     },
     "execution_count": 16,
     "metadata": {},
     "output_type": "execute_result"
    }
   ],
   "source": [
    "distancia2(1, 2)"
   ]
  },
  {
   "cell_type": "code",
   "execution_count": 17,
   "metadata": {
    "slideshow": {
     "slide_type": "fragment"
    }
   },
   "outputs": [
    {
     "data": {
      "text/plain": [
       "0.5099019513592785"
      ]
     },
     "execution_count": 17,
     "metadata": {},
     "output_type": "execute_result"
    }
   ],
   "source": [
    "distancia2(1, 2, 1.5, 2.1)"
   ]
  },
  {
   "cell_type": "code",
   "execution_count": 18,
   "metadata": {
    "slideshow": {
     "slide_type": "fragment"
    }
   },
   "outputs": [
    {
     "data": {
      "text/plain": [
       "0.5099019513592785"
      ]
     },
     "execution_count": 18,
     "metadata": {},
     "output_type": "execute_result"
    }
   ],
   "source": [
    "# Cambiando el orden de los parametros\n",
    "distancia2(x0=1.5, x1=1, y0=2.1, y1=2) "
   ]
  },
  {
   "cell_type": "code",
   "execution_count": 19,
   "metadata": {},
   "outputs": [
    {
     "data": {
      "text/plain": [
       "1.2083045973594573"
      ]
     },
     "execution_count": 19,
     "metadata": {},
     "output_type": "execute_result"
    }
   ],
   "source": [
    "distancia2(1.5, 1, y0=2.1, x0=2)"
   ]
  },
  {
   "cell_type": "markdown",
   "metadata": {
    "slideshow": {
     "slide_type": "slide"
    }
   },
   "source": [
    "<h2 style=\"color:teal\"> Ejemplos </h2>\n",
    "\n",
    "1. Define la función `potencia` que tome dos números: `a`, `b` y regrese el valor $a^b$\n",
    "```python\n",
    ">>> potencia(2, 3)\n",
    "8\n",
    ">>> potencia(3, 1)\n",
    "3\n",
    "```\n",
    "2. Usando la función `potencia`, define la función `lista_potencias` que tome un número `n` y un número entero `lim`. La función deberá regresar una lista de potencias de `n` elevado a las potencias `1, 2, .., lim`.\n",
    "```python\n",
    ">>> lista_potencias(2, 12)\n",
    "[2, 4, 8, 16, 32, 64, 128, 256, 512, 1024, 2048, 4096]\n",
    ">>> lista_potencias(7, 10)\n",
    "[7, 49, 343, 2401, 16807, 117649, 823543, 5764801, 40353607, 282475249]\n",
    ">>> lista_potencias(1, 6)\n",
    "[1, 1, 1, 1, 1, 1]\n",
    "```\n",
    "\n",
    "3. Usando la función `lista_funciones`, define la función `potencia_unidades` que tome un número `n ` y un número entero `lim`. La función deberá regresar una lista con los valores únicos de las unidades para cada número $\\{n^i\\}_{i=1}^{\\texttt{lim}}$\n",
    "```python\n",
    ">>> potencia_unidades(2, 12)\n",
    "[2, 4, 6, 8]\n",
    ">>> potencia_unidades(7, 10)\n",
    "[1, 3, 7, 9]\n",
    ">>> potencia_unidades(1, 6)\n",
    "[1]\n",
    "```\n",
    "\n",
    "4. Usando la función `potencia_unidades`, define la función `conjunto_potencia_unidades` que tome un número `n ` y un número entero `lim`. La función deberá regresar un diccionario con llaves los valores `0` al `n` y valores una lista con los valores únicos de unidades para cada número $\\{k^i\\}_{i=1}^{\\texttt{lim}}$\n",
    "```python\n",
    ">>> conjunto_potencia_unidades(10, 20)\n",
    "{0: [0],\n",
    " 1: [1],\n",
    " 2: [2, 4, 6, 8],\n",
    " 3: [1, 3, 7, 9],\n",
    " 4: [4, 6],\n",
    " 5: [5],\n",
    " 6: [6],\n",
    " 7: [1, 3, 7, 9],\n",
    " 8: [2, 4, 6, 8],\n",
    " 9: [9, 1],\n",
    " 10: [0]}\n",
    "```"
   ]
  },
  {
   "cell_type": "code",
   "execution_count": 20,
   "metadata": {},
   "outputs": [],
   "source": [
    "### ---Ans--\n",
    "\n",
    "# 1)\n",
    "# El primer ejercicio nos pide únicamente regresar el valor\n",
    "# de a ** b\n",
    "def potencia(a, b):\n",
    "    return a ** b\n",
    "\n",
    "\n",
    "# 2)\n",
    "# El segundo ejercicio debe hacer uso de la función \n",
    "# definida anteriormente \"potencia\". Este ejercicio\n",
    "# nos pide obtener una *lista* de potencias, por lo\n",
    "# que será necesario ir llenando una lista de potencias de 'n'\n",
    "# para cada uno de los valores de 1 a lim\n",
    "def lista_potencias(n, lim):\n",
    "    lista_result = [] # lista donde guardaremos las potencias\n",
    "    for i in range(1, lim + 1):\n",
    "        pot_ai = n ** i # valor con las potencias\n",
    "        lista_result.append(pot_ai) # agregamos un nuevo elemento al final de la lista\n",
    "    \n",
    "    return lista_result\n",
    "\n",
    "\n",
    "# 3)\n",
    "# Este ejercicio considera ocupar la función `lista_potencias` definida\n",
    "# anteriormenete. Como ejemplo de este ejercicios, para una lista de \n",
    "# potencias de 2 elevado de 1 a 5, i.e., 2 ** 1; 2 ** 2; ...; 2 ** 5,\n",
    "# deberemos considerar sólo los valores únicos de las unidades para cada\n",
    "# uno de los valores. Para ejemplo anterior:\n",
    "# [2, 4, 8, 16, 32] -> [2, 4, 8, 6, 2] son las unidades de los valores y\n",
    "# [2, 4, 6, 8] son los valores únicos de las únidades\n",
    "def potencias_unidades(n, lim):\n",
    "    unidades = [] # lista para guardar los elementos de las unidades\n",
    "    # Obtenemos la lista de potencias de n ** 1, ..., n ** lim\n",
    "    # de nuestra función definida anteriormenete. NO fue necesario\n",
    "    # encontrar la lista de potencias desde 0, solo hacer uso de nuestra\n",
    "    # función lista_potencias\n",
    "    potencias = lista_potencias(n, lim)\n",
    "    for p in potencias:\n",
    "        unidad = p % 10 # obtenemos el valor de la unidad de nuestra potencia\n",
    "        unidades.append(unidad)\n",
    "        \n",
    "    # regresamos una lista de valores únicos de unidades. Si unidades == [2, 3, 2, 5]\n",
    "    # set(unidades) == {2, 3, 5} transforma nuestros valores a un 'set' (valores únicos)\n",
    "    # paso final será convertir este 'set' en una lista como list({2, 3, 5}) == [2, 3, 5]\n",
    "    # Todo esto es equivalente a: list(set(unidades))\n",
    "    unidades = list(set(unidades))\n",
    "    unidades.sort() # ordenamos los elementos de unidades\n",
    "    return unidades\n",
    "\n",
    "\n",
    "# 3)\n",
    "# Para este ejercicio final consideramos la función 'potencia_unidades'.\n",
    "# La clave para este ejercicio es observar que lo único que se pide es hacer\n",
    "# un diccionario cuya llave sea un índice 'i' (un numero de 1, ..., n) y el valor\n",
    "# de esta llave una 'llamada' a la función 'potencias_unidades(i, lim)'.\n",
    "def conjunto_potencias_unidades(n, lim):\n",
    "    # De igual manera al ejercicio 2 & 3, dado que queremos 'llenar' una colección\n",
    "    # (en este caso un diccionario), empezamos con un diccinario vacío\n",
    "    conjunto = {}\n",
    "    for i in range(1, n + 1):\n",
    "        unidades = potencias_unidades(i, n)\n",
    "        conjunto[i] = unidades\n",
    "    return conjunto"
   ]
  },
  {
   "cell_type": "markdown",
   "metadata": {
    "slideshow": {
     "slide_type": "slide"
    }
   },
   "source": [
    "## Ejemplo: Valuando opción Europea"
   ]
  },
  {
   "cell_type": "code",
   "execution_count": 21,
   "metadata": {
    "slideshow": {
     "slide_type": "subslide"
    }
   },
   "outputs": [],
   "source": [
    "from scipy.stats import norm\n",
    "from math import log, sqrt, exp\n",
    "\n",
    "def option(f, k, rate, sigma, ttm, say=\"call\"):\n",
    "    \"\"\"\n",
    "    Valora una opción \"call\" o \"put\" europea bajo\n",
    "    el modelo de Black '76.\n",
    "    Para una referencia, ver:\n",
    "    https://en.wikipedia.org/wiki/Black_model\n",
    "    \n",
    "    Parameters\n",
    "    ----------\n",
    "    f: float\n",
    "        Valor del forward sobre la opción\n",
    "    k: float\n",
    "        Strike de la opción\n",
    "    rate: float\n",
    "        Tasa de interés libre de riesgo\n",
    "    sigma: float\n",
    "        Volatilidad implicita de la opción\n",
    "    ttm: float\n",
    "        tiempo hacia la fecha de maduración de la opción (time to maturity)\n",
    "    say: string\n",
    "        Tipo de la acción: \"put\" o \"call\"\n",
    "        \n",
    "    Returns\n",
    "    -------\n",
    "    float: El valor presente de la opción bajo el modelo de Black '76\n",
    "    \"\"\"    \n",
    "    ind = 1 if say == \"call\" else -1\n",
    "    d1 = (log(f / k) + sigma ** 2 / 2 * ttm) / (sigma * sqrt(ttm))\n",
    "    d2 = d1 - sigma * sqrt(ttm)\n",
    "    Nd1 = norm.cdf(ind * d1); Nd2 = norm.cdf(ind * d2)\n",
    "    \n",
    "    option_price = ind * exp(-rate * ttm) * (f * Nd1 - k * Nd2)\n",
    "    return option_price"
   ]
  },
  {
   "cell_type": "code",
   "execution_count": 22,
   "metadata": {
    "slideshow": {
     "slide_type": "subslide"
    }
   },
   "outputs": [
    {
     "data": {
      "text/plain": [
       "1.9960592711207739"
      ]
     },
     "execution_count": 22,
     "metadata": {},
     "output_type": "execute_result"
    }
   ],
   "source": [
    "option(12, 10, 0.06, 0.23, 12 / 365, say=\"call\")"
   ]
  },
  {
   "cell_type": "code",
   "execution_count": 23,
   "metadata": {
    "slideshow": {
     "slide_type": "fragment"
    }
   },
   "outputs": [
    {
     "name": "stdout",
     "output_type": "stream",
     "text": [
      "Help on function option in module __main__:\n",
      "\n",
      "option(f, k, rate, sigma, ttm, say='call')\n",
      "    Valora una opción \"call\" o \"put\" europea bajo\n",
      "    el modelo de Black '76.\n",
      "    Para una referencia, ver:\n",
      "    https://en.wikipedia.org/wiki/Black_model\n",
      "    \n",
      "    Parameters\n",
      "    ----------\n",
      "    f: float\n",
      "        Valor del forward sobre la opción\n",
      "    k: float\n",
      "        Strike de la opción\n",
      "    rate: float\n",
      "        Tasa de interés libre de riesgo\n",
      "    sigma: float\n",
      "        Volatilidad implicita de la opción\n",
      "    ttm: float\n",
      "        tiempo hacia la fecha de maduración de la opción (time to maturity)\n",
      "    say: string\n",
      "        Tipo de la acción: \"put\" o \"call\"\n",
      "        \n",
      "    Returns\n",
      "    -------\n",
      "    float: El valor presente de la opción bajo el modelo de Black '76\n",
      "\n"
     ]
    }
   ],
   "source": [
    "help(option)"
   ]
  },
  {
   "cell_type": "markdown",
   "metadata": {
    "slideshow": {
     "slide_type": "slide"
    }
   },
   "source": [
    "## `*args` & `**kwargs`\n",
    "Podemos aceptar cualquier número de argumentos con `*args` y cualquier número de argumentos y llaves con `**kwargs`. En ocasiones no sabemos el número total de parametros para una función o queremos extender su dependencia hacia otras clases"
   ]
  },
  {
   "cell_type": "code",
   "execution_count": 24,
   "metadata": {
    "slideshow": {
     "slide_type": "fragment"
    }
   },
   "outputs": [],
   "source": [
    "def funcion_args(*args):\n",
    "    print(args)"
   ]
  },
  {
   "cell_type": "code",
   "execution_count": 25,
   "metadata": {
    "slideshow": {
     "slide_type": "fragment"
    }
   },
   "outputs": [
    {
     "name": "stdout",
     "output_type": "stream",
     "text": [
      "(1, 2, 3)\n"
     ]
    }
   ],
   "source": [
    "funcion_args(1, 2, 3)"
   ]
  },
  {
   "cell_type": "code",
   "execution_count": 26,
   "metadata": {
    "slideshow": {
     "slide_type": "fragment"
    }
   },
   "outputs": [],
   "source": [
    "def funcion_kwargs(**kwargs):\n",
    "    print(kwargs)"
   ]
  },
  {
   "cell_type": "code",
   "execution_count": 27,
   "metadata": {
    "slideshow": {
     "slide_type": "fragment"
    }
   },
   "outputs": [
    {
     "name": "stdout",
     "output_type": "stream",
     "text": [
      "{'a': 1, 'b': 2}\n"
     ]
    }
   ],
   "source": [
    "funcion_kwargs(a=1, b=2)"
   ]
  },
  {
   "cell_type": "code",
   "execution_count": 28,
   "metadata": {
    "slideshow": {
     "slide_type": "slide"
    }
   },
   "outputs": [],
   "source": [
    "def funcion_args_kwargs(*args, **kwargs):\n",
    "    print(args)\n",
    "    print(kwargs)"
   ]
  },
  {
   "cell_type": "code",
   "execution_count": 29,
   "metadata": {
    "slideshow": {
     "slide_type": "fragment"
    }
   },
   "outputs": [
    {
     "name": "stdout",
     "output_type": "stream",
     "text": [
      "(1, 2)\n",
      "{'a': 1, 'b': 2}\n"
     ]
    }
   ],
   "source": [
    "funcion_args_kwargs(1,2, a=1, b=2)"
   ]
  },
  {
   "cell_type": "markdown",
   "metadata": {
    "slideshow": {
     "slide_type": "slide"
    }
   },
   "source": [
    "## Ejemplo con ``**kwargs``"
   ]
  },
  {
   "cell_type": "code",
   "execution_count": 30,
   "metadata": {
    "slideshow": {
     "slide_type": "slide"
    }
   },
   "outputs": [],
   "source": [
    "from ipywidgets import interact, FloatSlider, Dropdown\n",
    "import matplotlib.pyplot as plt\n",
    "\n",
    "def graph_option(k, rate, sigma, ttm):\n",
    "    Ft = [i for i in range(10, 50, 1)]\n",
    "    prices = [option(F, k, rate, sigma, ttm) for F in Ft]\n",
    "    plt.figure(figsize=(13,8))\n",
    "    plt.plot(Ft, prices)\n",
    "    plt.xlabel(\"$F(t)$\")\n",
    "    plt.ylabel(\"$C(t)$\")\n",
    "    plt.ylim(-0.5, 25); plt.xlim(10, 50)\n",
    "    plt.show()"
   ]
  },
  {
   "cell_type": "code",
   "execution_count": 31,
   "metadata": {
    "slideshow": {
     "slide_type": "slide"
    }
   },
   "outputs": [
    {
     "data": {
      "application/vnd.jupyter.widget-view+json": {
       "model_id": "3a55319e14284e65b9d9749e2a018656",
       "version_major": 2,
       "version_minor": 0
      },
      "text/plain": [
       "interactive(children=(FloatSlider(value=20.0, description='k', max=50.0, min=10.0, step=1.0), FloatSlider(valu…"
      ]
     },
     "metadata": {},
     "output_type": "display_data"
    },
    {
     "data": {
      "text/plain": [
       "<function __main__.graph_option(k, rate, sigma, ttm)>"
      ]
     },
     "execution_count": 31,
     "metadata": {},
     "output_type": "execute_result"
    }
   ],
   "source": [
    "interact(graph_option,\n",
    "         k=FloatSlider(min=10, max=50, step=1, value=20),\n",
    "         rate=FloatSlider(min=0.01, max=0.2, step=0.01, value=0.06),\n",
    "         sigma=FloatSlider(min=0.01, max=0.8, step=0.1, value=0.23),\n",
    "         ttm=FloatSlider(min=0.01, max=2, step=0.1, value=30/365))"
   ]
  },
  {
   "cell_type": "markdown",
   "metadata": {
    "slideshow": {
     "slide_type": "slide"
    }
   },
   "source": [
    "<h2 style=\"color:crimson\"> Ejercicio </h2>\n",
    "\n",
    "1. Escribe un programa `unicos` que tome una `n` cantidad de números enteros y regrese una lista con los valores únicos.\n",
    "```python\n",
    ">>> unicos(1, 2, 3, 4, 2, 3, 4)\n",
    "[1, 2, 3, 4]\n",
    ">>> unicos(1, 1, 2)\n",
    "[1, 2]\n",
    "```\n",
    "1. Escribe una función `familia` que describa una familia. El programa deberá tomar como parámetro el rol de un miembro de la familia y como argumento su nombre. El programa deberá imprimir `\"Los integrantes de la familia son:\"`, seguido de los integrantes de la familia\n",
    "```python\n",
    ">>> familia(papa=\"Mario\", hija1=\"Sophia\", hija2=\"Elizabeth\")\n",
    "Los integrantes de la familia son:\n",
    "Mario es papa\n",
    "Sophia es hija1\n",
    "Elizabeth es hija2\n",
    "```"
   ]
  }
 ],
 "metadata": {
  "celltoolbar": "Slideshow",
  "kernelspec": {
   "display_name": "Python 3",
   "language": "python",
   "name": "python3"
  },
  "widgets": {
   "application/vnd.jupyter.widget-state+json": {
    "state": {
     "15fe3151fab94068bd26a86036c2fab6": {
      "model_module": "@jupyter-widgets/controls",
      "model_module_version": "1.4.0",
      "model_name": "SliderStyleModel",
      "state": {
       "description_width": ""
      }
     },
     "163ae5753ea643dab77c7feec4f27ed3": {
      "model_module": "@jupyter-widgets/controls",
      "model_module_version": "1.4.0",
      "model_name": "FloatSliderModel",
      "state": {
       "description": "sigma",
       "layout": "IPY_MODEL_5d766d2fb0f840ebbabd2cd7a3620cef",
       "max": 0.8,
       "min": 0.01,
       "step": 0.1,
       "style": "IPY_MODEL_b13f2cd171b5421aa9ef73f9125aa2b2",
       "value": 0.23
      }
     },
     "231dfe15434440398e01b449694ed7d0": {
      "model_module": "@jupyter-widgets/base",
      "model_module_version": "1.1.0",
      "model_name": "LayoutModel",
      "state": {}
     },
     "2a84d466579a457f8a51503cd86fdeee": {
      "model_module": "@jupyter-widgets/controls",
      "model_module_version": "1.4.0",
      "model_name": "VBoxModel",
      "state": {
       "_dom_classes": [
        "widget-interact"
       ],
       "children": [
        "IPY_MODEL_9f661c0e3aae41e6a817c6de22aeb6bb",
        "IPY_MODEL_c0626e8c75e146f0b210a8ddae54d6c4",
        "IPY_MODEL_8e6842184af9457396281d4c5145ef71",
        "IPY_MODEL_535fd4fa9baa4a139cb40aa823d6a851",
        "IPY_MODEL_83c37c9917f84cd3a7b5f7b5bec28abb"
       ],
       "layout": "IPY_MODEL_c5a7e5e4b28748a5a62cf79389fd8d66"
      }
     },
     "2c3cf2ad62aa46cebf35562fe9fd8b59": {
      "model_module": "@jupyter-widgets/base",
      "model_module_version": "1.1.0",
      "model_name": "LayoutModel",
      "state": {}
     },
     "2d684fae13534f42b7c70c91f0df5efb": {
      "model_module": "@jupyter-widgets/controls",
      "model_module_version": "1.4.0",
      "model_name": "FloatSliderModel",
      "state": {
       "description": "k",
       "layout": "IPY_MODEL_c8386ef129e24f4390dfd4fbea92d6ec",
       "max": 50,
       "min": 10,
       "style": "IPY_MODEL_15fe3151fab94068bd26a86036c2fab6",
       "value": 20
      }
     },
     "30a32fe077c14b2db01f8168fc2266d4": {
      "model_module": "@jupyter-widgets/controls",
      "model_module_version": "1.4.0",
      "model_name": "SliderStyleModel",
      "state": {
       "description_width": ""
      }
     },
     "35de284bfc4343a293e3d453a96add18": {
      "model_module": "@jupyter-widgets/base",
      "model_module_version": "1.1.0",
      "model_name": "LayoutModel",
      "state": {}
     },
     "389abfb7558b402ebaf562488f08eb4f": {
      "model_module": "@jupyter-widgets/base",
      "model_module_version": "1.1.0",
      "model_name": "LayoutModel",
      "state": {}
     },
     "3a55319e14284e65b9d9749e2a018656": {
      "model_module": "@jupyter-widgets/controls",
      "model_module_version": "1.4.0",
      "model_name": "VBoxModel",
      "state": {
       "_dom_classes": [
        "widget-interact"
       ],
       "children": [
        "IPY_MODEL_3e4595c6987a4238b0bd24abed7a4eb4",
        "IPY_MODEL_751fcc2d308e495b9be2fab8873fc4e9",
        "IPY_MODEL_dfd6bad7e8eb43219cfd6ea22c150c95",
        "IPY_MODEL_3cba9839a33c42b288c38695a731b813",
        "IPY_MODEL_3baee50cf0b04757a3d34403b67df2a8"
       ],
       "layout": "IPY_MODEL_64692cfe765d44d293d74f6bfab2a44c"
      }
     },
     "3baee50cf0b04757a3d34403b67df2a8": {
      "model_module": "@jupyter-widgets/output",
      "model_module_version": "1.0.0",
      "model_name": "OutputModel",
      "state": {
       "layout": "IPY_MODEL_93c7405cfe5c43acbb679d152f56f29f",
       "outputs": [
        {
         "data": {
          "image/png": "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\n",
          "text/plain": "<Figure size 936x576 with 1 Axes>"
         },
         "metadata": {
          "needs_background": "light"
         },
         "output_type": "display_data"
        }
       ]
      }
     },
     "3c00d514247a4f9484e1d4bf3d850aac": {
      "model_module": "@jupyter-widgets/base",
      "model_module_version": "1.1.0",
      "model_name": "LayoutModel",
      "state": {}
     },
     "3cba9839a33c42b288c38695a731b813": {
      "model_module": "@jupyter-widgets/controls",
      "model_module_version": "1.4.0",
      "model_name": "FloatSliderModel",
      "state": {
       "description": "ttm",
       "layout": "IPY_MODEL_98aed66936784524af09ac1b90444143",
       "max": 2,
       "min": 0.01,
       "step": 0.1,
       "style": "IPY_MODEL_a1485ff2460a4215b2defde0d7fbe804",
       "value": 0.0821917808219178
      }
     },
     "3d96e2608de44248abece88b1b632c11": {
      "model_module": "@jupyter-widgets/base",
      "model_module_version": "1.1.0",
      "model_name": "LayoutModel",
      "state": {}
     },
     "3e4595c6987a4238b0bd24abed7a4eb4": {
      "model_module": "@jupyter-widgets/controls",
      "model_module_version": "1.4.0",
      "model_name": "FloatSliderModel",
      "state": {
       "description": "k",
       "layout": "IPY_MODEL_7a5080e392804ad3957cf243ccdbb805",
       "max": 50,
       "min": 10,
       "style": "IPY_MODEL_8964e092c56b448da559a33595ca1721",
       "value": 20
      }
     },
     "448ac82337784bb8a669a2fb8bde898b": {
      "model_module": "@jupyter-widgets/controls",
      "model_module_version": "1.4.0",
      "model_name": "VBoxModel",
      "state": {
       "_dom_classes": [
        "widget-interact"
       ],
       "children": [
        "IPY_MODEL_2d684fae13534f42b7c70c91f0df5efb",
        "IPY_MODEL_47ed97aa4973448486d627ed0e136521",
        "IPY_MODEL_163ae5753ea643dab77c7feec4f27ed3",
        "IPY_MODEL_73eae9ff24764db581add0d7aeb476de",
        "IPY_MODEL_da32755ca5e048e3a2c62bc8c01b8d21"
       ],
       "layout": "IPY_MODEL_fbd8d55ff7ae4780a746242fecd42cc8"
      }
     },
     "47ed97aa4973448486d627ed0e136521": {
      "model_module": "@jupyter-widgets/controls",
      "model_module_version": "1.4.0",
      "model_name": "FloatSliderModel",
      "state": {
       "description": "rate",
       "layout": "IPY_MODEL_3d96e2608de44248abece88b1b632c11",
       "max": 0.2,
       "min": 0.01,
       "step": 0.01,
       "style": "IPY_MODEL_693b4adda6524ff2b9beaefe76b10782",
       "value": 0.06
      }
     },
     "4fea57572d66413ab67d0a815993cd54": {
      "model_module": "@jupyter-widgets/base",
      "model_module_version": "1.1.0",
      "model_name": "LayoutModel",
      "state": {}
     },
     "535fd4fa9baa4a139cb40aa823d6a851": {
      "model_module": "@jupyter-widgets/controls",
      "model_module_version": "1.4.0",
      "model_name": "FloatSliderModel",
      "state": {
       "description": "ttm",
       "layout": "IPY_MODEL_2c3cf2ad62aa46cebf35562fe9fd8b59",
       "max": 2,
       "min": 0.01,
       "step": 0.1,
       "style": "IPY_MODEL_30a32fe077c14b2db01f8168fc2266d4",
       "value": 0.41
      }
     },
     "5d766d2fb0f840ebbabd2cd7a3620cef": {
      "model_module": "@jupyter-widgets/base",
      "model_module_version": "1.1.0",
      "model_name": "LayoutModel",
      "state": {}
     },
     "64692cfe765d44d293d74f6bfab2a44c": {
      "model_module": "@jupyter-widgets/base",
      "model_module_version": "1.1.0",
      "model_name": "LayoutModel",
      "state": {}
     },
     "693b4adda6524ff2b9beaefe76b10782": {
      "model_module": "@jupyter-widgets/controls",
      "model_module_version": "1.4.0",
      "model_name": "SliderStyleModel",
      "state": {
       "description_width": ""
      }
     },
     "73eae9ff24764db581add0d7aeb476de": {
      "model_module": "@jupyter-widgets/controls",
      "model_module_version": "1.4.0",
      "model_name": "FloatSliderModel",
      "state": {
       "description": "ttm",
       "layout": "IPY_MODEL_c9c24740a9c54e648fceb369ba16678b",
       "max": 2,
       "min": 0.01,
       "step": 0.1,
       "style": "IPY_MODEL_eaefaebeec3b44f3ad1fada4442ca8d3",
       "value": 0.0821917808219178
      }
     },
     "751fcc2d308e495b9be2fab8873fc4e9": {
      "model_module": "@jupyter-widgets/controls",
      "model_module_version": "1.4.0",
      "model_name": "FloatSliderModel",
      "state": {
       "description": "rate",
       "layout": "IPY_MODEL_7a757f75d9264e58bdcfde2eb376942d",
       "max": 0.2,
       "min": 0.01,
       "step": 0.01,
       "style": "IPY_MODEL_aebc378842b741baa537e4ec25d221b0",
       "value": 0.06
      }
     },
     "75407fd55ebc40cf8a4f904d7fe4e24a": {
      "model_module": "@jupyter-widgets/controls",
      "model_module_version": "1.4.0",
      "model_name": "SliderStyleModel",
      "state": {
       "description_width": ""
      }
     },
     "7a5080e392804ad3957cf243ccdbb805": {
      "model_module": "@jupyter-widgets/base",
      "model_module_version": "1.1.0",
      "model_name": "LayoutModel",
      "state": {}
     },
     "7a757f75d9264e58bdcfde2eb376942d": {
      "model_module": "@jupyter-widgets/base",
      "model_module_version": "1.1.0",
      "model_name": "LayoutModel",
      "state": {}
     },
     "83c37c9917f84cd3a7b5f7b5bec28abb": {
      "model_module": "@jupyter-widgets/output",
      "model_module_version": "1.0.0",
      "model_name": "OutputModel",
      "state": {
       "layout": "IPY_MODEL_389abfb7558b402ebaf562488f08eb4f",
       "outputs": [
        {
         "data": {
          "image/png": "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\n",
          "text/plain": "<Figure size 936x576 with 1 Axes>"
         },
         "metadata": {},
         "output_type": "display_data"
        }
       ]
      }
     },
     "8964e092c56b448da559a33595ca1721": {
      "model_module": "@jupyter-widgets/controls",
      "model_module_version": "1.4.0",
      "model_name": "SliderStyleModel",
      "state": {
       "description_width": ""
      }
     },
     "89aa9322cd7a4893a36b9d36e2294096": {
      "model_module": "@jupyter-widgets/controls",
      "model_module_version": "1.4.0",
      "model_name": "SliderStyleModel",
      "state": {
       "description_width": ""
      }
     },
     "8e6842184af9457396281d4c5145ef71": {
      "model_module": "@jupyter-widgets/controls",
      "model_module_version": "1.4.0",
      "model_name": "FloatSliderModel",
      "state": {
       "description": "sigma",
       "layout": "IPY_MODEL_3c00d514247a4f9484e1d4bf3d850aac",
       "max": 0.8,
       "min": 0.01,
       "step": 0.1,
       "style": "IPY_MODEL_e2ff9e7dedbb424690dae05093c6e954",
       "value": 0.21
      }
     },
     "93c7405cfe5c43acbb679d152f56f29f": {
      "model_module": "@jupyter-widgets/base",
      "model_module_version": "1.1.0",
      "model_name": "LayoutModel",
      "state": {}
     },
     "98aed66936784524af09ac1b90444143": {
      "model_module": "@jupyter-widgets/base",
      "model_module_version": "1.1.0",
      "model_name": "LayoutModel",
      "state": {}
     },
     "9bdd7a4a8e7547a6b4d071f3e929e0d5": {
      "model_module": "@jupyter-widgets/controls",
      "model_module_version": "1.4.0",
      "model_name": "SliderStyleModel",
      "state": {
       "description_width": ""
      }
     },
     "9f661c0e3aae41e6a817c6de22aeb6bb": {
      "model_module": "@jupyter-widgets/controls",
      "model_module_version": "1.4.0",
      "model_name": "FloatSliderModel",
      "state": {
       "description": "k",
       "layout": "IPY_MODEL_35de284bfc4343a293e3d453a96add18",
       "max": 50,
       "min": 10,
       "style": "IPY_MODEL_9bdd7a4a8e7547a6b4d071f3e929e0d5",
       "value": 13
      }
     },
     "a1485ff2460a4215b2defde0d7fbe804": {
      "model_module": "@jupyter-widgets/controls",
      "model_module_version": "1.4.0",
      "model_name": "SliderStyleModel",
      "state": {
       "description_width": ""
      }
     },
     "a631b4629a08451680f7c6abd17ebcb5": {
      "model_module": "@jupyter-widgets/base",
      "model_module_version": "1.1.0",
      "model_name": "LayoutModel",
      "state": {}
     },
     "aebc378842b741baa537e4ec25d221b0": {
      "model_module": "@jupyter-widgets/controls",
      "model_module_version": "1.4.0",
      "model_name": "SliderStyleModel",
      "state": {
       "description_width": ""
      }
     },
     "b13f2cd171b5421aa9ef73f9125aa2b2": {
      "model_module": "@jupyter-widgets/controls",
      "model_module_version": "1.4.0",
      "model_name": "SliderStyleModel",
      "state": {
       "description_width": ""
      }
     },
     "c0626e8c75e146f0b210a8ddae54d6c4": {
      "model_module": "@jupyter-widgets/controls",
      "model_module_version": "1.4.0",
      "model_name": "FloatSliderModel",
      "state": {
       "description": "rate",
       "layout": "IPY_MODEL_231dfe15434440398e01b449694ed7d0",
       "max": 0.2,
       "min": 0.01,
       "step": 0.01,
       "style": "IPY_MODEL_89aa9322cd7a4893a36b9d36e2294096",
       "value": 0.08
      }
     },
     "c5a7e5e4b28748a5a62cf79389fd8d66": {
      "model_module": "@jupyter-widgets/base",
      "model_module_version": "1.1.0",
      "model_name": "LayoutModel",
      "state": {}
     },
     "c8386ef129e24f4390dfd4fbea92d6ec": {
      "model_module": "@jupyter-widgets/base",
      "model_module_version": "1.1.0",
      "model_name": "LayoutModel",
      "state": {}
     },
     "c9c24740a9c54e648fceb369ba16678b": {
      "model_module": "@jupyter-widgets/base",
      "model_module_version": "1.1.0",
      "model_name": "LayoutModel",
      "state": {}
     },
     "da32755ca5e048e3a2c62bc8c01b8d21": {
      "model_module": "@jupyter-widgets/output",
      "model_module_version": "1.0.0",
      "model_name": "OutputModel",
      "state": {
       "layout": "IPY_MODEL_4fea57572d66413ab67d0a815993cd54",
       "outputs": [
        {
         "data": {
          "image/png": "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\n",
          "text/plain": "<Figure size 936x576 with 1 Axes>"
         },
         "metadata": {
          "needs_background": "light"
         },
         "output_type": "display_data"
        }
       ]
      }
     },
     "dfd6bad7e8eb43219cfd6ea22c150c95": {
      "model_module": "@jupyter-widgets/controls",
      "model_module_version": "1.4.0",
      "model_name": "FloatSliderModel",
      "state": {
       "description": "sigma",
       "layout": "IPY_MODEL_a631b4629a08451680f7c6abd17ebcb5",
       "max": 0.8,
       "min": 0.01,
       "step": 0.1,
       "style": "IPY_MODEL_75407fd55ebc40cf8a4f904d7fe4e24a",
       "value": 0.23
      }
     },
     "e2ff9e7dedbb424690dae05093c6e954": {
      "model_module": "@jupyter-widgets/controls",
      "model_module_version": "1.4.0",
      "model_name": "SliderStyleModel",
      "state": {
       "description_width": ""
      }
     },
     "eaefaebeec3b44f3ad1fada4442ca8d3": {
      "model_module": "@jupyter-widgets/controls",
      "model_module_version": "1.4.0",
      "model_name": "SliderStyleModel",
      "state": {
       "description_width": ""
      }
     },
     "fbd8d55ff7ae4780a746242fecd42cc8": {
      "model_module": "@jupyter-widgets/base",
      "model_module_version": "1.1.0",
      "model_name": "LayoutModel",
      "state": {}
     }
    },
    "version_major": 2,
    "version_minor": 0
   }
  }
 },
 "nbformat": 4,
 "nbformat_minor": 2
}
