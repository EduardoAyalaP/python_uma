{
 "cells": [
  {
   "cell_type": "markdown",
   "metadata": {},
   "source": [
    "**1.** Considerando los conjunto $A$, $B$ y $C$, evalua las siguientes fbfs\n",
    "\n",
    "```\n",
    "A = [0.3, -0.7, 2.8, 3.0 , -0.9, 0.8, -1.9, 0.6, -2.6, 0.5]\n",
    "B = [1.0 , 3.6, 1.6, 3.5, 1.1, 2.4, 0.9, 0.6, 2.7, 0.8]\n",
    "C = [1.2, 1.3, 4.4, 1.3, 6.5, 2.9, 3.2, -1.0]\n",
    "```\n",
    "\n",
    "1. $\\forall a\\in A. F(a)$\n",
    "2. $\\exists a\\in A. F(a))$\n",
    "3. $\\forall a\\in A. F(a) \\implies a > 1$\n",
    "4. $\\forall a\\in A. F(a) \\iff a > 1$\n",
    "5. $\\forall a\\in A.\\forall b\\in B. b > a$\n",
    "6. $\\forall a\\in A.\\exists b\\in B. b > a$\n",
    "7. $\\forall c \\in C. \\exists a \\in A. \\exists b \\in B. G(a, b, c)$\n",
    "\n",
    "Dónde:\n",
    "* $F(x) \\equiv x^2 > x$\n",
    "* $G(x, y, z) \\equiv x + y = z$\n"
   ]
  },
  {
   "cell_type": "code",
   "execution_count": null,
   "metadata": {},
   "outputs": [],
   "source": []
  },
  {
   "cell_type": "markdown",
   "metadata": {},
   "source": [
    "**2.** El valor presente de un bono con cupones $C$ y valor $FV$ a $n$ años con una tasa efectiva anual de descuento $r$ se calcula de la siguiente manera:\n",
    "$$\n",
    "    PV = \\frac{FV}{(1 + r)^n} +  \\sum_{i=1}^n \\frac{C}{(1 + r)^i}\n",
    "$$\n",
    "\n",
    "Escribe una expresión (por medio de p.f.) que calcule el v.p. de un bono con las siguientes características:\n",
    "* $FV$ = 100\n",
    "* $C$ = 5\n",
    "* $r$ = 5%\n",
    "* $n$ = 20"
   ]
  },
  {
   "cell_type": "code",
   "execution_count": null,
   "metadata": {},
   "outputs": [],
   "source": []
  },
  {
   "cell_type": "markdown",
   "metadata": {},
   "source": [
    "**3.** Considera un bono cuyo cupón es una función del tiempo y de la tasa de descuento $r$. En este caso,\n",
    "$$\n",
    "    PV = \\frac{FV}{(1 + r)^n} +  \\sum_{i=1}^n \\frac{C_i}{(1 + r)^i}\n",
    "$$\n",
    "\n",
    "Dónde $C_i = FV\\times 0.1(1 + r) ^ i$\n",
    "\n",
    "Escribe una expresión (por medio de p.f.) que calcule el v.p. del bono con las siguientes características:\n",
    "* $FV$ = 100\n",
    "* $C$ = 5\n",
    "* $r$ = 5%\n",
    "* $n$ = 20"
   ]
  },
  {
   "cell_type": "code",
   "execution_count": null,
   "metadata": {},
   "outputs": [],
   "source": []
  },
  {
   "cell_type": "markdown",
   "metadata": {},
   "source": [
    "**4.** Define una clase `Estudiante` que tome los siguientes parámetros iniciales: `nombre`, `ap_paterno`, `ap_materno`, `edad` and `licenciatura` y, dentro del constructor, inicialice un diccionario vacío *self.__calificaciones*. Define dentro de la clase tres métodos:\n",
    "\n",
    "* `agregar_materia` que tome el parámetro `materia`, modifique el diccionario `__.calificaciones` con la llaveria `materia` e inicialice su valor a `10`\n",
    "* `modificar_materia` que tome los parámetros `materia` y `nueva_calif`; modifique la llave `materia`  dentro del diccionario `__calificaciones` asignandole el valor `nueva_calif`. Si la materia no se encuentra dentro de `__calificaciones`, levanta `KeyError` que arroje el error `\"materia {materia} no disponible\"`.\n",
    "* `promedio` que considere el diccionario `__calificaciones` y regrese el promedio del estudiante.\n",
    "\n",
    "```python\n",
    ">>> ger = Estudiante(\"Gerardo\", \"Durán\", \"Martín\", 24, \"actuaría\")\n",
    ">>> ger.agregar_materia(\"probabilidad\")\n",
    ">>> ger.agregar_materia(\"estadistica\")\n",
    ">>> ger.agregar_materia(\"machine_learning\")\n",
    "\n",
    ">>> ger.modificar_materia(\"machine_learning\", 8)\n",
    ">>> ger.modificar_materia(\"estadistica\", 8)\n",
    ">>> ger.modificar_materia(\"probabilidad\", 9)\n",
    "\n",
    ">>> ger.promedio()\n",
    "8.333333333333334\n",
    "```"
   ]
  },
  {
   "cell_type": "code",
   "execution_count": null,
   "metadata": {},
   "outputs": [],
   "source": []
  },
  {
   "cell_type": "markdown",
   "metadata": {},
   "source": [
    "**5.** Define la clase `Actuario` que herede las propiedades de `Estudiante`, inicialice el valor de `licenciatura` a `\"actuaría\"` y agregue dos propiedades: `sabe_derivar`, cuyo valor inicial es `False` y `sabe_sumar` cuyo valor es `False`.\n",
    "\n",
    "```python\n",
    ">>> ger = Actuario(\"Gerardo\", \"Durán\", \"Martín\", 24)\n",
    ">>> ger.sabe_derivar\n",
    "False\n",
    "\n",
    ">>> ger.licenciatura\n",
    "'actuaria'\n",
    "```"
   ]
  },
  {
   "cell_type": "code",
   "execution_count": null,
   "metadata": {},
   "outputs": [],
   "source": []
  }
 ],
 "metadata": {
  "kernelspec": {
   "display_name": "Python 3",
   "language": "python",
   "name": "python3"
  },
  "language_info": {
   "codemirror_mode": {
    "name": "ipython",
    "version": 3
   },
   "file_extension": ".py",
   "mimetype": "text/x-python",
   "name": "python",
   "nbconvert_exporter": "python",
   "pygments_lexer": "ipython3",
   "version": "3.6.6"
  }
 },
 "nbformat": 4,
 "nbformat_minor": 2
}
