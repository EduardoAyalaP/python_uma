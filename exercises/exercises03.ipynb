{
 "cells": [
  {
   "cell_type": "markdown",
   "metadata": {},
   "source": [
    "# Tarea 03\n",
    "\n",
    "Resuelve los siguientes problemas por medio de programación funcional"
   ]
  },
  {
   "cell_type": "markdown",
   "metadata": {},
   "source": [
    "**1.** Dada `list1`, reemplaza cada elemento `a` por `--`\n",
    "\n",
    "```python\n",
    "list1 = [\"a\", \"b\", \"a\", \"d\", \"a\", \"a\", \"c\"]\n",
    "```"
   ]
  },
  {
   "cell_type": "code",
   "execution_count": null,
   "metadata": {},
   "outputs": [],
   "source": []
  },
  {
   "cell_type": "markdown",
   "metadata": {},
   "source": [
    "**2.** Obten el número de carácteres para cada elemento de la lista `acciones`.\n",
    "\n",
    "```python\n",
    "acciones = ['BIMBO', 'CEMEX', 'IENOVA', 'KOF', 'PE&OLES']\n",
    "```"
   ]
  },
  {
   "cell_type": "code",
   "execution_count": null,
   "metadata": {},
   "outputs": [],
   "source": []
  },
  {
   "cell_type": "markdown",
   "metadata": {},
   "source": [
    "**3.** Dada la lista `nums`, suma a cada entrada un `1`.\n",
    "\n",
    "```python\n",
    "nums = [\"1\", \"3\", \"5\", \"7\", \"11\", \"13\"]\n",
    "```"
   ]
  },
  {
   "cell_type": "code",
   "execution_count": null,
   "metadata": {},
   "outputs": [],
   "source": []
  },
  {
   "cell_type": "markdown",
   "metadata": {},
   "source": [
    "**4.** Dada la lista `numbers`, crea un diccionario dónde la llave sea la entrada de cada lista y el valor la longitud de cada entrada  \n",
    "```python\n",
    "numbers = [\"one\", \"two\", \"three\", \"four\", \"five\", \"six\"]\n",
    "```"
   ]
  },
  {
   "cell_type": "code",
   "execution_count": null,
   "metadata": {},
   "outputs": [],
   "source": []
  },
  {
   "cell_type": "markdown",
   "metadata": {},
   "source": [
    "**5.** Crear un dictionary comprehension de python donde las llaves sean los números 1 al $n$ y, los valores, una lista con sus potencias del $2$ al $m$\n",
    "\n",
    "Por ejemplo, si $n=6$, y $m=5$ entonces el programa arrojaría. Considera variables `n` y `m` para generar el programa.\n",
    "```python\n",
    "{1: [1, 1, 1, 1],\n",
    " 2: [4, 8, 16, 32],\n",
    " 3: [9, 27, 81, 243],\n",
    " 4: [16, 64, 256, 1024],\n",
    " 5: [25, 125, 625, 3125],\n",
    " 6: [36, 216, 1296, 7776]}\n",
    "```"
   ]
  },
  {
   "cell_type": "code",
   "execution_count": null,
   "metadata": {},
   "outputs": [],
   "source": []
  },
  {
   "cell_type": "markdown",
   "metadata": {},
   "source": [
    "**6.** Crea un list comprehension que arroje el siguiente resultado:\n",
    "\n",
    "```python\n",
    "[[1, 2, 3, 4, 5, 6, 7, 8, 9, 10],\n",
    " [2, 4, 6, 8, 10, 12, 14, 16, 18, 20],\n",
    " [3, 6, 9, 12, 15, 18, 21, 24, 27, 30],\n",
    " [4, 8, 12, 16, 20, 24, 28, 32, 36, 40],\n",
    " [5, 10, 15, 20, 25, 30, 35, 40, 45, 50],\n",
    " [6, 12, 18, 24, 30, 36, 42, 48, 54, 60],\n",
    " [7, 14, 21, 28, 35, 42, 49, 56, 63, 70],\n",
    " [8, 16, 24, 32, 40, 48, 56, 64, 72, 80],\n",
    " [9, 18, 27, 36, 45, 54, 63, 72, 81, 90],\n",
    " [10, 20, 30, 40, 50, 60, 70, 80, 90, 100]]\n",
    "```"
   ]
  },
  {
   "cell_type": "code",
   "execution_count": null,
   "metadata": {},
   "outputs": [],
   "source": []
  },
  {
   "cell_type": "markdown",
   "metadata": {},
   "source": [
    "**7.** \n",
    "Considerando el universo `C = ['Nokia', 'Citigroup', 'Union Pacific', 'Jp Morgan Chase', 'Morgan Stanley', 'Lloyds Tsb', 'Wells Fargo', 'Ford Motor', 'Pfizer']` y considerando $F(c) \\equiv c \\text{ contiene la letra 'o'}$, escribe una expresión en python para la siguiente fbf.\n",
    "\n",
    "$$\\forall c \\in C. F(c)$$"
   ]
  },
  {
   "cell_type": "code",
   "execution_count": null,
   "metadata": {},
   "outputs": [],
   "source": []
  },
  {
   "cell_type": "markdown",
   "metadata": {},
   "source": [
    "**8.** Considerando el universo $U = \\mathbb{Z}^+$, el subcojunto $A = \\{1, 3, 6, 7, 11\\} \\subseteq U$ y el predicado \n",
    "$$\n",
    "    F(x) \\equiv x \\text{ es número primo}\n",
    "$$\n",
    "\n",
    "Escribe en python una expresión que value la siguiente fbf:\n",
    "$$\n",
    "    \\forall a \\in A. F(a)\n",
    "$$\n",
    "\n",
    "*Hint: considera la siguiente función para validar si `a` es un número primo*\n",
    "```python\n",
    "def is_prime(x):\n",
    "    \"\"\"\n",
    "    Parameters\n",
    "    ----------\n",
    "    x: int\n",
    "        positive integer greater than or equal to two\n",
    "    \n",
    "    Returns\n",
    "    -------\n",
    "    bool: whether x is prime or not\n",
    "    \"\"\"\n",
    "    for i in range(2, x):\n",
    "        if x % i == 0:\n",
    "            return False\n",
    "    return True\n",
    "```"
   ]
  },
  {
   "cell_type": "code",
   "execution_count": null,
   "metadata": {},
   "outputs": [],
   "source": []
  },
  {
   "cell_type": "markdown",
   "metadata": {},
   "source": [
    "**9.** Considerando el universo $U = \\mathbb{Z}^+$, los subconjuntos $A = \\{2, 3, 5, 7, 9\\}$; $B = \\{1, 3, 7, 15, 31, 63, 127, 255, 511, 1023\\}$, escribe una fbf para el siguiente enunciado:\n",
    "> todo elemento $a \\in A$ tiene al menos un elemento $b \\in B$ tal que si $2 ^ a  - 1 = b$, entonces $a, b$ son números primos.\n",
    "\n",
    "Evalua tu expresión en python"
   ]
  },
  {
   "cell_type": "markdown",
   "metadata": {},
   "source": [
    "$F(a, b) \\equiv 2^a - 1 = b \\rightarrow a, b \\in Primes$\n",
    "\n",
    "$\\forall a\\in A.\\exists b \\in B. F(a, b)$"
   ]
  },
  {
   "cell_type": "code",
   "execution_count": null,
   "metadata": {},
   "outputs": [],
   "source": []
  },
  {
   "cell_type": "markdown",
   "metadata": {},
   "source": [
    "**10.** Se definió la función `pyramid` que tome un valor `v` e imprima una pirámide de la siguiente manera\n",
    "\n",
    "```python\n",
    ">>> pyramid(4)\n",
    "   1\n",
    "  2 2\n",
    " 3 3 3\n",
    "4 4 4 4\n",
    "```\n",
    "\n",
    "La pirámide deberá tomar forma dependiendo `v` a fin de no perder la estructura. Por ejemplo, si `v = 11`\n",
    "```python\n",
    ">>> pyramid(10)\n",
    "               01                \n",
    "              02 02              \n",
    "            03 03 03             \n",
    "           04 04 04 04           \n",
    "         05 05 05 05 05          \n",
    "        06 06 06 06 06 06        \n",
    "      07 07 07 07 07 07 07       \n",
    "     08 08 08 08 08 08 08 08     \n",
    "   09 09 09 09 09 09 09 09 09    \n",
    "  10 10 10 10 10 10 10 10 10 10  \n",
    "11 11 11 11 11 11 11 11 11 11 11 \n",
    "```\n",
    "En el caso donde `v >= 100`, las unidades deberían tener dos ceros de *padding* y así sucesivamente.\n",
    "\n",
    "Se tiene la siguiente función que trata de resolver este problema\n",
    "```python\n",
    "def pyramid(v):\n",
    "vlen = len(str(v))\n",
    "    max_len = v * 2\n",
    "    for i in range(v + 1):\n",
    "        label = format(i, \"02\")\n",
    "    print((f\"{label} \" * i).center(v))\n",
    "```\n",
    "\n",
    "Usando `pbd` y leyendo los errores, soluciona el programa. "
   ]
  },
  {
   "cell_type": "code",
   "execution_count": null,
   "metadata": {},
   "outputs": [],
   "source": []
  }
 ],
 "metadata": {
  "kernelspec": {
   "display_name": "Python 3",
   "language": "python",
   "name": "python3"
  },
  "language_info": {
   "codemirror_mode": {
    "name": "ipython",
    "version": 3
   },
   "file_extension": ".py",
   "mimetype": "text/x-python",
   "name": "python",
   "nbconvert_exporter": "python",
   "pygments_lexer": "ipython3",
   "version": "3.6.6"
  }
 },
 "nbformat": 4,
 "nbformat_minor": 2
}
