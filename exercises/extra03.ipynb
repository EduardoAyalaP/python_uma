{
 "cells": [
  {
   "cell_type": "markdown",
   "metadata": {},
   "source": [
    "1. Escribe la función `suma_producto` que tome un numpy array con dos dimensiones de shape `(n, n)`, el índice de una fila, el índice de una columna, y calcule la suma de multiplicar cada elemento de la columna seleccionada por cada elemento de la fila seleccionada.\n",
    "\n",
    "Por ejemplo, te tener una matriz\n",
    "```\n",
    "a1 = np.array([[2, 3, 3],\n",
    "               [4, 3, 3],\n",
    "               [5, 3, 1]])\n",
    "```\n",
    "\n",
    "Calcular ```suma_producto(a1, 0, 2)``` consideraría la primera fila (`[2, 3, 3]`), la última columna (`[3, 3, 1]`)  y realizaría la siguiente operación:\n",
    "```\n",
    "2 * 3 + 3 * 3 + 3 * 1 = 18\n",
    "```\n",
    "\n",
    "```python\n",
    ">>> a2 = np.array([2, 3,\n",
    "                   3, 4])\n",
    ">>> suma_producto(a2, 0, 0)\n",
    "13\n",
    "\n",
    "a3 = np.array([[2, 3, 3, 4],\n",
    "               [3, 3, 5, 3],\n",
    "               [1, 2, 2, 3],\n",
    "               [5, 5, 5, 5]])\n",
    ">>> suma_producto(a3, 2, 1)\n",
    "28\n",
    "\n",
    "```"
   ]
  },
  {
   "cell_type": "code",
   "execution_count": 28,
   "metadata": {},
   "outputs": [],
   "source": [
    "def suma_producto(a, ixrow, ixcol):\n",
    "    return (a[ixrow, :] * a[:, ixcol]).sum()"
   ]
  },
  {
   "cell_type": "markdown",
   "metadata": {},
   "source": [
    "2. escribe la función (`suma_pos`) que tome un numpy array y regrese la suma de todos los elementos positivos del array\n",
    "\n",
    "```python\n",
    ">>> a1 = np.array([[ 0,  4,  1],\n",
    "                   [-3, -3,  1],\n",
    "                   [-3,  2, -3]])\n",
    ">>> suma_pos(a1)\n",
    "8\n",
    "```"
   ]
  },
  {
   "cell_type": "code",
   "execution_count": 164,
   "metadata": {},
   "outputs": [],
   "source": [
    "def suma_pos(arr):\n",
    "    return arr[arr > 0].sum()"
   ]
  },
  {
   "cell_type": "markdown",
   "metadata": {},
   "source": [
    "3. Escribe la función `cercano` que tome un numpy array unidimensional, un número base y encuentre el (los) número(s) que más se aproxime (en valor aboluto) al número base\n",
    "\n",
    "```python\n",
    "a1 = np.arrray([-25,  27,   8, -12,  20,   8,  29, -28,   9, -12, -23, -26,  20,-22, -29])\n",
    ">>> cercano(a1, 10)\n",
    "array([9])\n",
    ">>> cercano(a1, -3)\n",
    "array([-12, -12])\n",
    "```"
   ]
  },
  {
   "cell_type": "code",
   "execution_count": 197,
   "metadata": {},
   "outputs": [],
   "source": [
    "def cercano(arr, obj):\n",
    "    diff = np.abs(arr - obj)\n",
    "    return arr[np.where(diff == diff.min())]"
   ]
  },
  {
   "cell_type": "markdown",
   "metadata": {},
   "source": [
    "4. Escribe la función `computesto(capital, r, years, filename)` que tome un capital inicial `capital`, una tasa de interés real `r`, un número de años `years`, el nombre de un archivo `filename` y cree un archivo con `years` filas de la siguiente forma: `t={y:02} | C={amount:02f}`; donde `y` es el año en cuestión y `amount` es el valor de la inversión al año `y`.\n",
    "\n",
    "Por ejemplo:\n",
    "```python\n",
    "compuesto(100, 0.03, 5, \"comp.txt\")\n",
    "```\n",
    "\n",
    "Deberá crear un archivo `comp.txt` con la siguiente información:\n",
    "```\n",
    "t=00 | C=100.00\n",
    "t=01 | C=103.00\n",
    "t=02 | C=106.09\n",
    "t=03 | C=109.27\n",
    "t=04 | C=112.55\n",
    "t=05 | C=115.93\n",
    "```"
   ]
  },
  {
   "cell_type": "code",
   "execution_count": 207,
   "metadata": {},
   "outputs": [],
   "source": [
    "def compuesto(capital, r, years, filename):\n",
    "    with open(filename, \"w\") as f:\n",
    "        for y in range(years + 1):\n",
    "            amount = capital * (1 + r) ** y\n",
    "            row = f\"t={y:02} | C={amount:0.2f}\\n\"\n",
    "            f.write(row)"
   ]
  },
  {
   "cell_type": "markdown",
   "metadata": {},
   "source": [
    "5. Escribe un programa `filter_sum(arr, stride)` que cree un _filtro_ de suma para un numpy array de dos dimensiones con `arr.shape[0] == arr.shape[1]`. Un filtro de tamaño `stride` captura los elementos de `arr` con una _ventana_ de tamaño `(stride, stride)` y suma los valores para arrojar un nuevo resultado dentro de una matriz final.\n",
    "\n",
    "Por ejemplo, dado el array\n",
    "```\n",
    "[[ 6,  7, 19, 19,  7],\n",
    "[ 3,  8, 19,  8,  5],\n",
    "[19,  9,  2, 11, 15],\n",
    "[ 5, 15,  6, 17, 17],\n",
    "[17,  2,  1, 17, 12]]\n",
    "```\n",
    "\n",
    "Las _ventanas_ de la matriz serían\n",
    "```\n",
    "[[ 6  7 19]\n",
    " [ 3  8 19]\n",
    " [19  9  2]]\n",
    "\n",
    "[[ 7 19 19]\n",
    " [ 8 19  8]\n",
    " [ 9  2 11]]\n",
    " \n",
    " ...\n",
    " \n",
    " [[ 2 11 15]\n",
    " [ 6 17 17]\n",
    " [ 1 17 12]]\n",
    "```\n",
    "\n",
    "Con valores `92, 105, ..., 98`\n",
    "\n",
    "y la matriz resultante sería\n",
    "\n",
    "```\n",
    "[[ 92., 102., 105.],\n",
    "[ 86.,  95., 100.],\n",
    "[ 76.,  80.,  98.]])\n",
    "```"
   ]
  },
  {
   "cell_type": "code",
   "execution_count": 306,
   "metadata": {},
   "outputs": [],
   "source": [
    "def filter_sum(arr, stride):\n",
    "    arr_el = arr.shape[0]\n",
    "    filter_size = arr_el // stride + 2\n",
    "    new_arr = np.zeros((filter_size, filter_size))\n",
    "    for ypos in range(filter_size):\n",
    "        for xpos in range(filter_size):\n",
    "            fpixel = arr[ypos:stride*1 + ypos, xpos:stride*1 + xpos]\n",
    "            print(fpixel,end=\"\\n\\n\")\n",
    "            new_arr[ypos, xpos] = fpixel.sum()\n",
    "\n",
    "    return new_arr"
   ]
  }
 ],
 "metadata": {
  "kernelspec": {
   "display_name": "Python 3",
   "language": "python",
   "name": "python3"
  },
  "language_info": {
   "codemirror_mode": {
    "name": "ipython",
    "version": 3
   },
   "file_extension": ".py",
   "mimetype": "text/x-python",
   "name": "python",
   "nbconvert_exporter": "python",
   "pygments_lexer": "ipython3",
   "version": "3.6.6"
  }
 },
 "nbformat": 4,
 "nbformat_minor": 2
}
