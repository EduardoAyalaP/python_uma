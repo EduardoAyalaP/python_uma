{
 "cells": [
  {
   "cell_type": "markdown",
   "metadata": {},
   "source": [
    "# Examen Final\n",
    "## Universidad Marista\n",
    "### Introducción a la Computación I"
   ]
  },
  {
   "cell_type": "markdown",
   "metadata": {},
   "source": [
    "1. Escribe la función `suma_division` que tome un numpy array con dos dimensiones de shape `(n, n)`, el índice de una fila, el índice de una columna, y calcule la suma de dividir cada elemento de la columna seleccionada por cada elemento de la fila seleccionada.\n",
    "\n",
    "Por ejemplo, de tener una matriz\n",
    "```\n",
    "a1 = np.array([[2, 3, 3],\n",
    "               [4, 3, 3],\n",
    "               [5, 3, 1]])\n",
    "```\n",
    "\n",
    "Calcular ```suma_division(a1, 0, 2)``` consideraría la primera fila (`[2, 3, 3]`), la última columna (`[3, 3, 1]`)  y realizaría la siguiente operación:\n",
    "```\n",
    "2 / 3 + 3 / 3 + 3 / 1 = 4.6666\n",
    "```\n",
    "\n",
    "```python\n",
    ">>> a2 = np.array([[2, 3],\n",
    "                   [3, 4]])\n",
    ">>> suma_division(a2, 0, 0)\n",
    "2.0\n",
    "\n",
    "a3 = np.array([[2, 3, 3, 4],\n",
    "               [3, 3, 5, 3],\n",
    "               [1, 2, 2, 3],\n",
    "               [5, 5, 5, 5]])\n",
    ">>> suma_division(a3, 2, 1)\n",
    "2.6\n",
    "```"
   ]
  },
  {
   "cell_type": "code",
   "execution_count": null,
   "metadata": {},
   "outputs": [],
   "source": []
  },
  {
   "cell_type": "markdown",
   "metadata": {},
   "source": [
    "2. escribe la función (`suma_pos`) que tome un numpy array y regrese la suma de todos los elementos positivos del array\n",
    "\n",
    "```python\n",
    ">>> a1 = np.array([[ 0,  4,  1],\n",
    "                   [-3, -3,  1],\n",
    "                   [-3,  2, -3]])\n",
    ">>> suma_neg(a1)\n",
    "-12\n",
    "```"
   ]
  },
  {
   "cell_type": "code",
   "execution_count": null,
   "metadata": {},
   "outputs": [],
   "source": []
  },
  {
   "cell_type": "markdown",
   "metadata": {},
   "source": [
    "3. Escribe la función `cercano` que tome un numpy array unidimensional, un número base y encuentre el (los) número(s) que más se aproxime (en valor aboluto) al número base\n",
    "\n",
    "```python\n",
    "a1 = np.arrray([-25,  27,   8, -12,  20,   8,  29, -28,   9, -12, -23, -26,  20,-22, -29])\n",
    ">>> cercano(a1, 10)\n",
    "array([9])\n",
    ">>> cercano(a1, -3)\n",
    "array([-12, -12])\n",
    "```"
   ]
  },
  {
   "cell_type": "code",
   "execution_count": null,
   "metadata": {},
   "outputs": [],
   "source": []
  },
  {
   "cell_type": "markdown",
   "metadata": {},
   "source": [
    "4. Escribe la función `valoresf(f, xmin, xmax, filename, pasos=1)` que tome una función `f` y cree un archivo llamado `filename` dónde se muestren los valores de `f` evaluados desde `f(xmin)` hasta `f(xmax)` tomando pasos de tamaño `pasos`.\n",
    "\n",
    "Por ejemplo:\n",
    "```python\n",
    "def f(x): return x**2\n",
    "\n",
    "valoresf(f, -2, 2, \"fx2.txt\", pasos=0.5)\n",
    "```\n",
    "\n",
    "Deberá crear un archivo `fx2.txt` con la siguiente información **y formato**:\n",
    "```\n",
    "f(-2.000) = 4.000\n",
    "f(-1.500) = 2.250\n",
    "f(-1.000) = 1.000\n",
    "f(-0.500) = 0.250\n",
    "f(0.000) = 0.000\n",
    "f(0.500) = 0.250\n",
    "f(1.000) = 1.000\n",
    "f(1.500) = 2.250\n",
    "f(2.000) = 4.000\n",
    "```"
   ]
  },
  {
   "cell_type": "markdown",
   "metadata": {},
   "source": [
    "5. Escribe un programa `filter_max(arr, stride)` que cree un _filtro_ de suma para un numpy array de dos dimensiones con `arr.shape[0] == arr.shape[1]`. Un filtro de tamaño `f` captura los elementos de `arr` con una _ventana_ de tamaño `(f, f)` y suma los valores para arrojar un nuevo resultado dentro de una matriz final.\n",
    "\n",
    "Por ejemplo, dado el array\n",
    "```\n",
    "[[ 6,  7, 19, 19,  7],\n",
    "[ 3,  8, 19,  8,  5],\n",
    "[19,  9,  2, 11, 15],\n",
    "[ 5, 15,  6, 17, 17],\n",
    "[17,  2,  1, 17, 12]]\n",
    "```\n",
    "\n",
    "Las _ventanas_ de la matriz (con `f=3`) serían\n",
    "```\n",
    "[[ 6  7 19]\n",
    " [ 3  8 19]\n",
    " [19  9  2]]\n",
    "\n",
    "[[ 7 19 19]\n",
    " [ 8 19  8]\n",
    " [ 9  2 11]]\n",
    " \n",
    " ...\n",
    " \n",
    " [[ 2 11 15]\n",
    " [ 6 17 17]\n",
    " [ 1 17 12]]\n",
    "```\n",
    "\n",
    "Con valores `19, 19, ..., 17`\n",
    "\n",
    "y la matriz resultante sería\n",
    "\n",
    "```\n",
    "[[19., 19., 19.],\n",
    "[19., 19., 19.],\n",
    "[19., 17., 17.]]\n",
    "```"
   ]
  },
  {
   "cell_type": "code",
   "execution_count": null,
   "metadata": {},
   "outputs": [],
   "source": []
  },
  {
   "cell_type": "markdown",
   "metadata": {},
   "source": [
    "### Extra\n",
    "1. ¿Cuáles son las propiedades de un numpy array?\n",
    "2. ¿En qué ocasiones ocuparías un numpy array o una lista? ¿Cuál es la ventaja de ocupar un numpy array?\n",
    "3. Dado un numpy array `arr`, ¿de qué manera reescribirías el siguiente código usando los métodos de un numpy array? `[2 * a ** 2 for a in arr if -10 < a < 10]`\n",
    "4. Crea una gráfica de las funciones $f(x) = \\sin(x)$ y $g(x) = \\cos(x)$ entre $x \\in [0, 2\\pi]$"
   ]
  },
  {
   "cell_type": "code",
   "execution_count": null,
   "metadata": {},
   "outputs": [],
   "source": []
  }
 ],
 "metadata": {
  "kernelspec": {
   "display_name": "Python 3",
   "language": "python",
   "name": "python3"
  },
  "language_info": {
   "codemirror_mode": {
    "name": "ipython",
    "version": 3
   },
   "file_extension": ".py",
   "mimetype": "text/x-python",
   "name": "python",
   "nbconvert_exporter": "python",
   "pygments_lexer": "ipython3",
   "version": "3.6.6"
  }
 },
 "nbformat": 4,
 "nbformat_minor": 2
}
